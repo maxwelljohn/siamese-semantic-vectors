{
  "nbformat": 4,
  "nbformat_minor": 0,
  "metadata": {
    "colab": {
      "name": "siamese.ipynb",
      "version": "0.3.2",
      "provenance": [],
      "collapsed_sections": [],
      "include_colab_link": true
    },
    "kernelspec": {
      "name": "python3",
      "display_name": "Python 3"
    }
  },
  "cells": [
    {
      "cell_type": "markdown",
      "metadata": {
        "id": "view-in-github",
        "colab_type": "text"
      },
      "source": [
        "[View in Colaboratory](https://colab.research.google.com/github/maxwelljohn/siamese-word2vec/blob/master/siamese.ipynb)"
      ]
    },
    {
      "metadata": {
        "id": "fv-b7O6mz7G6",
        "colab_type": "code",
        "colab": {
          "base_uri": "https://localhost:8080/",
          "height": 34
        },
        "outputId": "5f832c2a-8fc9-455d-97e9-7d8f777f2262"
      },
      "cell_type": "code",
      "source": [
        "import numpy as np\n",
        "\n",
        "import random\n",
        "from keras.datasets import mnist\n",
        "from keras.models import Model\n",
        "from keras.layers import Input, Flatten, Dense, Dropout, Lambda\n",
        "from keras.optimizers import RMSprop\n",
        "from keras import backend as K"
      ],
      "execution_count": 2,
      "outputs": [
        {
          "output_type": "stream",
          "text": [
            "Using TensorFlow backend.\n"
          ],
          "name": "stderr"
        }
      ]
    },
    {
      "metadata": {
        "id": "85s8R9-WEyOb",
        "colab_type": "code",
        "colab": {}
      },
      "cell_type": "code",
      "source": [
        "num_classes = 10\n",
        "epochs = 20\n",
        "\n",
        "\n",
        "def euclidean_distance(vects):\n",
        "    x, y = vects\n",
        "    return K.sqrt(K.maximum(K.sum(K.square(x - y), axis=1, keepdims=True), K.epsilon()))\n",
        "\n",
        "\n",
        "def eucl_dist_output_shape(shapes):\n",
        "    shape1, shape2 = shapes\n",
        "    return (shape1[0], 1)\n",
        "\n",
        "\n",
        "def contrastive_loss(y_true, y_pred):\n",
        "    '''Contrastive loss from Hadsell-et-al.'06\n",
        "    http://yann.lecun.com/exdb/publis/pdf/hadsell-chopra-lecun-06.pdf\n",
        "    '''\n",
        "    margin = 1\n",
        "    return K.mean(y_true * K.square(y_pred) +\n",
        "                  (1 - y_true) * K.square(K.maximum(margin - y_pred, 0)))\n",
        "\n",
        "\n",
        "def create_pairs(x, digit_indices):\n",
        "    '''Positive and negative pair creation.\n",
        "    Alternates between positive and negative pairs.\n",
        "    '''\n",
        "    pairs = []\n",
        "    labels = []\n",
        "    n = min([len(digit_indices[d]) for d in range(num_classes)]) - 1\n",
        "    for d in range(num_classes):\n",
        "        for i in range(n):\n",
        "            z1, z2 = digit_indices[d][i], digit_indices[d][i + 1]\n",
        "            pairs += [[x[z1], x[z2]]]\n",
        "            inc = random.randrange(1, num_classes)\n",
        "            dn = (d + inc) % num_classes\n",
        "            z1, z2 = digit_indices[d][i], digit_indices[dn][i]\n",
        "            pairs += [[x[z1], x[z2]]]\n",
        "            labels += [1, 0]\n",
        "    return np.array(pairs), np.array(labels)\n",
        "\n",
        "\n",
        "def create_base_network(input_shape):\n",
        "    '''Base network to be shared (eq. to feature extraction).\n",
        "    '''\n",
        "    input = Input(shape=input_shape)\n",
        "    x = Flatten()(input)\n",
        "    x = Dense(128, activation='relu')(x)\n",
        "    x = Dropout(0.1)(x)\n",
        "    x = Dense(128, activation='relu')(x)\n",
        "    x = Dropout(0.1)(x)\n",
        "    x = Dense(128, activation='relu')(x)\n",
        "    return Model(input, x)\n",
        "\n",
        "\n",
        "def compute_accuracy(y_true, y_pred):\n",
        "    '''Compute classification accuracy with a fixed threshold on distances.\n",
        "    '''\n",
        "    pred = y_pred.ravel() < 0.5\n",
        "    return np.mean(pred == y_true)\n",
        "\n",
        "\n",
        "def accuracy(y_true, y_pred):\n",
        "    '''Compute classification accuracy with a fixed threshold on distances.\n",
        "    '''\n",
        "    return K.mean(K.equal(y_true, K.cast(y_pred < 0.5, y_true.dtype)))"
      ],
      "execution_count": 0,
      "outputs": []
    },
    {
      "metadata": {
        "id": "LOTfhTyQE7ie",
        "colab_type": "code",
        "colab": {
          "base_uri": "https://localhost:8080/",
          "height": 51
        },
        "outputId": "0bda5580-2d05-4665-9cb5-f081a5521366"
      },
      "cell_type": "code",
      "source": [
        "# the data, split between train and test sets\n",
        "(x_train, y_train), (x_test, y_test) = mnist.load_data()\n",
        "x_train = x_train.astype('float32')\n",
        "x_test = x_test.astype('float32')\n",
        "x_train /= 255\n",
        "x_test /= 255\n",
        "input_shape = x_train.shape[1:]\n",
        "\n",
        "# create training+test positive and negative pairs\n",
        "digit_indices = [np.where(y_train == i)[0] for i in range(num_classes)]\n",
        "tr_pairs, tr_y = create_pairs(x_train, digit_indices)\n",
        "\n",
        "digit_indices = [np.where(y_test == i)[0] for i in range(num_classes)]\n",
        "te_pairs, te_y = create_pairs(x_test, digit_indices)"
      ],
      "execution_count": 4,
      "outputs": [
        {
          "output_type": "stream",
          "text": [
            "Downloading data from https://s3.amazonaws.com/img-datasets/mnist.npz\n",
            "11493376/11490434 [==============================] - 3s 0us/step\n"
          ],
          "name": "stdout"
        }
      ]
    },
    {
      "metadata": {
        "id": "3Zx0qd2jfYoX",
        "colab_type": "code",
        "colab": {}
      },
      "cell_type": "code",
      "source": [
        "# network definition\n",
        "base_network = create_base_network(input_shape)\n",
        "\n",
        "input_a = Input(shape=input_shape)\n",
        "input_b = Input(shape=input_shape)\n",
        "\n",
        "# because we re-use the same instance `base_network`,\n",
        "# the weights of the network\n",
        "# will be shared across the two branches\n",
        "processed_a = base_network(input_a)\n",
        "processed_b = base_network(input_b)\n",
        "\n",
        "distance = Lambda(euclidean_distance,\n",
        "                  output_shape=eucl_dist_output_shape)([processed_a, processed_b])\n",
        "\n",
        "model = Model([input_a, input_b], distance)"
      ],
      "execution_count": 0,
      "outputs": []
    },
    {
      "metadata": {
        "id": "ni4n7SllffX1",
        "colab_type": "code",
        "colab": {
          "base_uri": "https://localhost:8080/",
          "height": 731
        },
        "outputId": "62f66b88-815f-476c-a384-d6ad97828d13"
      },
      "cell_type": "code",
      "source": [
        "# train\n",
        "rms = RMSprop()\n",
        "model.compile(loss=contrastive_loss, optimizer=rms, metrics=[accuracy])\n",
        "model.fit([tr_pairs[:, 0], tr_pairs[:, 1]], tr_y,\n",
        "          batch_size=128,\n",
        "          epochs=epochs,\n",
        "          validation_data=([te_pairs[:, 0], te_pairs[:, 1]], te_y))"
      ],
      "execution_count": 6,
      "outputs": [
        {
          "output_type": "stream",
          "text": [
            "Train on 108400 samples, validate on 17820 samples\n",
            "Epoch 1/20\n",
            "108400/108400 [==============================] - 9s 79us/step - loss: 0.0951 - accuracy: 0.8878 - val_loss: 0.0427 - val_accuracy: 0.9581\n",
            "Epoch 2/20\n",
            "108400/108400 [==============================] - 8s 74us/step - loss: 0.0426 - accuracy: 0.9603 - val_loss: 0.0325 - val_accuracy: 0.9681\n",
            "Epoch 3/20\n",
            "108400/108400 [==============================] - 8s 76us/step - loss: 0.0309 - accuracy: 0.9709 - val_loss: 0.0276 - val_accuracy: 0.9717\n",
            "Epoch 4/20\n",
            "108400/108400 [==============================] - 8s 76us/step - loss: 0.0255 - accuracy: 0.9760 - val_loss: 0.0268 - val_accuracy: 0.9712\n",
            "Epoch 5/20\n",
            "108400/108400 [==============================] - 8s 74us/step - loss: 0.0222 - accuracy: 0.9790 - val_loss: 0.0268 - val_accuracy: 0.9696\n",
            "Epoch 6/20\n",
            "108400/108400 [==============================] - 8s 77us/step - loss: 0.0200 - accuracy: 0.9812 - val_loss: 0.0267 - val_accuracy: 0.9713\n",
            "Epoch 7/20\n",
            "108400/108400 [==============================] - 8s 75us/step - loss: 0.0182 - accuracy: 0.9828 - val_loss: 0.0246 - val_accuracy: 0.9728\n",
            "Epoch 8/20\n",
            "108400/108400 [==============================] - 8s 75us/step - loss: 0.0164 - accuracy: 0.9847 - val_loss: 0.0243 - val_accuracy: 0.9738\n",
            "Epoch 9/20\n",
            "108400/108400 [==============================] - 8s 76us/step - loss: 0.0158 - accuracy: 0.9854 - val_loss: 0.0243 - val_accuracy: 0.9737\n",
            "Epoch 10/20\n",
            "108400/108400 [==============================] - 8s 73us/step - loss: 0.0145 - accuracy: 0.9866 - val_loss: 0.0237 - val_accuracy: 0.9748\n",
            "Epoch 11/20\n",
            "108400/108400 [==============================] - 8s 76us/step - loss: 0.0139 - accuracy: 0.9869 - val_loss: 0.0253 - val_accuracy: 0.9726\n",
            "Epoch 12/20\n",
            "108400/108400 [==============================] - 8s 77us/step - loss: 0.0134 - accuracy: 0.9876 - val_loss: 0.0243 - val_accuracy: 0.9747\n",
            "Epoch 13/20\n",
            "108400/108400 [==============================] - 8s 74us/step - loss: 0.0126 - accuracy: 0.9882 - val_loss: 0.0259 - val_accuracy: 0.9735\n",
            "Epoch 14/20\n",
            "108400/108400 [==============================] - 8s 76us/step - loss: 0.0122 - accuracy: 0.9883 - val_loss: 0.0245 - val_accuracy: 0.9737\n",
            "Epoch 15/20\n",
            "108400/108400 [==============================] - 8s 73us/step - loss: 0.0119 - accuracy: 0.9887 - val_loss: 0.0248 - val_accuracy: 0.9739\n",
            "Epoch 16/20\n",
            "108400/108400 [==============================] - 8s 76us/step - loss: 0.0112 - accuracy: 0.9894 - val_loss: 0.0236 - val_accuracy: 0.9751\n",
            "Epoch 17/20\n",
            "108400/108400 [==============================] - 8s 75us/step - loss: 0.0113 - accuracy: 0.9895 - val_loss: 0.0236 - val_accuracy: 0.9750\n",
            "Epoch 18/20\n",
            "108400/108400 [==============================] - 8s 72us/step - loss: 0.0107 - accuracy: 0.9899 - val_loss: 0.0249 - val_accuracy: 0.9740\n",
            "Epoch 19/20\n",
            "108400/108400 [==============================] - 8s 76us/step - loss: 0.0105 - accuracy: 0.9904 - val_loss: 0.0239 - val_accuracy: 0.9745\n",
            "Epoch 20/20\n",
            "108400/108400 [==============================] - 8s 73us/step - loss: 0.0105 - accuracy: 0.9904 - val_loss: 0.0245 - val_accuracy: 0.9732\n"
          ],
          "name": "stdout"
        },
        {
          "output_type": "execute_result",
          "data": {
            "text/plain": [
              "<keras.callbacks.History at 0x7fb690dc06a0>"
            ]
          },
          "metadata": {
            "tags": []
          },
          "execution_count": 6
        }
      ]
    },
    {
      "metadata": {
        "id": "8psNIxjyfj2A",
        "colab_type": "code",
        "colab": {
          "base_uri": "https://localhost:8080/",
          "height": 51
        },
        "outputId": "b93052ef-66d3-4e3d-eb8f-841c69a7772e"
      },
      "cell_type": "code",
      "source": [
        "# compute final accuracy on training and test sets\n",
        "y_pred = model.predict([tr_pairs[:, 0], tr_pairs[:, 1]])\n",
        "tr_acc = compute_accuracy(tr_y, y_pred)\n",
        "y_pred = model.predict([te_pairs[:, 0], te_pairs[:, 1]])\n",
        "te_acc = compute_accuracy(te_y, y_pred)\n",
        "\n",
        "print('* Accuracy on training set: %0.2f%%' % (100 * tr_acc))\n",
        "print('* Accuracy on test set: %0.2f%%' % (100 * te_acc))"
      ],
      "execution_count": 7,
      "outputs": [
        {
          "output_type": "stream",
          "text": [
            "* Accuracy on training set: 99.59%\n",
            "* Accuracy on test set: 97.32%\n"
          ],
          "name": "stdout"
        }
      ]
    },
    {
      "metadata": {
        "id": "1FT1D4v9ghjW",
        "colab_type": "code",
        "colab": {}
      },
      "cell_type": "code",
      "source": [
        ""
      ],
      "execution_count": 0,
      "outputs": []
    }
  ]
}